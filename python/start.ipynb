{
 "cells": [
  {
   "cell_type": "code",
   "execution_count": 12,
   "metadata": {
    "collapsed": true
   },
   "outputs": [
    {
     "name": "stdout",
     "output_type": "stream",
     "text": [
      "Ich bin Thorsten 100\n"
     ]
    }
   ],
   "source": [
    "name = \"Thorsten\"\n",
    "zahl=100\n",
    "vorname = [\"Papa\",\"Mama\",\"Kinder\"]\n",
    "vorname.append(\"Steffi\")\n",
    "\n",
    "print(\"Ich bin \" + name +\" \"+ str(zahl))"
   ]
  }
 ],
 "metadata": {
  "kernelspec": {
   "display_name": "Python 3",
   "language": "python",
   "name": "python3"
  },
  "language_info": {
   "codemirror_mode": {
    "name": "ipython",
    "version": 2
   },
   "file_extension": ".py",
   "mimetype": "text/x-python",
   "name": "python",
   "nbconvert_exporter": "python",
   "pygments_lexer": "ipython2",
   "version": "2.7.6"
  }
 },
 "nbformat": 4,
 "nbformat_minor": 0
}